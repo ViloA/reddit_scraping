{
 "cells": [
  {
   "cell_type": "code",
   "execution_count": 3,
   "id": "def72536",
   "metadata": {},
   "outputs": [],
   "source": [
    "import numpy as np\n",
    "import pandas as pd\n",
    "import datetime\n",
    "import time\n",
    "from datetime import datetime, timedelta\n",
    "import requests\n",
    "import praw\n",
    "from bs4 import BeautifulSoup\n",
    "from selenium import webdriver\n",
    "from selenium.webdriver.chrome.service import Service\n",
    "from time import sleep"
   ]
  },
  {
   "cell_type": "markdown",
   "id": "bf620116",
   "metadata": {},
   "source": [
    "#### After attempting to use BeautifulSoup and Selenium, I have chosen to instead use PRAW for use with reddit API"
   ]
  },
  {
   "cell_type": "code",
   "execution_count": 144,
   "id": "ec603269",
   "metadata": {},
   "outputs": [],
   "source": [
    "url = 'https://old.reddit.com/hot/'\n",
    "\n",
    "html = requests.get(url)\n",
    "# soup = BeautifulSoup(html, 'lxml')\n",
    "\n"
   ]
  },
  {
   "cell_type": "code",
   "execution_count": 150,
   "id": "6072ee5e",
   "metadata": {},
   "outputs": [],
   "source": [
    "secret = '1kN6t2h4qoIiqy9smt7vueijTW-yEg'\n",
    "user = 'Lwoaq4zRNHjFHW8kY6h8Lg'\n"
   ]
  },
  {
   "cell_type": "markdown",
   "id": "b09cc291",
   "metadata": {},
   "source": [
    "#### I made a function that would take the UTC time of post from reddit, take's the current time now, and gives the difference"
   ]
  },
  {
   "cell_type": "code",
   "execution_count": 236,
   "id": "81fe6097",
   "metadata": {},
   "outputs": [],
   "source": [
    "def post_age(time2):\n",
    "    now = time.time()\n",
    "    age = now - time2\n",
    "    delta = timedelta(seconds = round(age))\n",
    "    return delta "
   ]
  },
  {
   "cell_type": "markdown",
   "id": "df57e63a",
   "metadata": {},
   "source": [
    "#### Here I have my lists that will hold the information pulled from Reddit, which will be used to create my DataFrame"
   ]
  },
  {
   "cell_type": "code",
   "execution_count": 251,
   "id": "bf1d606c",
   "metadata": {},
   "outputs": [],
   "source": [
    "title = []\n",
    "subreddit = []\n",
    "num_comments = []\n",
    "upvotes = []\n",
    "age_post = []"
   ]
  },
  {
   "cell_type": "code",
   "execution_count": 279,
   "id": "56516bed",
   "metadata": {
    "scrolled": true
   },
   "outputs": [
    {
     "data": {
      "text/plain": [
       "24488"
      ]
     },
     "execution_count": 279,
     "metadata": {},
     "output_type": "execute_result"
    }
   ],
   "source": [
    "len(title)"
   ]
  },
  {
   "cell_type": "markdown",
   "id": "c25e1fc3",
   "metadata": {},
   "source": [
    "#### Using praw to pull my information from reddit. This process was over a period of several days taking between 4-7000 per day"
   ]
  },
  {
   "cell_type": "code",
   "execution_count": 288,
   "id": "0bb958c0",
   "metadata": {},
   "outputs": [],
   "source": [
    "reddit = praw.Reddit(client_id = user,\n",
    "                     client_secret = secret,\n",
    "                     username = 'datasciencedata',\n",
    "                     password = 'DSI425datascience',\n",
    "                     user_agent = 'DSI_425_project')\n",
    "\n",
    "hot_reddit = reddit.subreddit('all').hot(limit=7000)\n",
    "\n",
    "for sub in hot_reddit:\n",
    "#     print(dir(sub))\n",
    "    title.append(sub.title)\n",
    "    subreddit.append(sub.subreddit)\n",
    "    num_comments.append(sub.num_comments)\n",
    "    upvotes.append(sub.ups)\n",
    "    age_post.append(post_age(sub.created_utc))\n",
    "\n",
    "        "
   ]
  },
  {
   "cell_type": "code",
   "execution_count": 289,
   "id": "0f75b93c",
   "metadata": {},
   "outputs": [],
   "source": [
    "reddit_data = pd.DataFrame(dict(titles=title,\n",
    "                  subreddits=subreddit,\n",
    "                  num_comments=num_comments,\n",
    "                  upvotes=upvotes,\n",
    "                  age_post=age_post))"
   ]
  },
  {
   "cell_type": "code",
   "execution_count": 290,
   "id": "dc8f934d",
   "metadata": {},
   "outputs": [
    {
     "data": {
      "text/plain": [
       "(31488, 5)"
      ]
     },
     "execution_count": 290,
     "metadata": {},
     "output_type": "execute_result"
    }
   ],
   "source": [
    "reddit_data.shape"
   ]
  },
  {
   "cell_type": "markdown",
   "id": "0087eabb",
   "metadata": {},
   "source": [
    "#### Here is the dataframe I will use to build my model on"
   ]
  },
  {
   "cell_type": "code",
   "execution_count": 291,
   "id": "e33d8b40",
   "metadata": {
    "scrolled": true
   },
   "outputs": [
    {
     "data": {
      "text/html": [
       "<div>\n",
       "<style scoped>\n",
       "    .dataframe tbody tr th:only-of-type {\n",
       "        vertical-align: middle;\n",
       "    }\n",
       "\n",
       "    .dataframe tbody tr th {\n",
       "        vertical-align: top;\n",
       "    }\n",
       "\n",
       "    .dataframe thead th {\n",
       "        text-align: right;\n",
       "    }\n",
       "</style>\n",
       "<table border=\"1\" class=\"dataframe\">\n",
       "  <thead>\n",
       "    <tr style=\"text-align: right;\">\n",
       "      <th></th>\n",
       "      <th>titles</th>\n",
       "      <th>subreddits</th>\n",
       "      <th>num_comments</th>\n",
       "      <th>upvotes</th>\n",
       "      <th>age_post</th>\n",
       "    </tr>\n",
       "  </thead>\n",
       "  <tbody>\n",
       "    <tr>\n",
       "      <th>0</th>\n",
       "      <td>[Highlight] Jimmy Butler misses the crucial go...</td>\n",
       "      <td>nba</td>\n",
       "      <td>1874</td>\n",
       "      <td>7781</td>\n",
       "      <td>0 days 01:40:44</td>\n",
       "    </tr>\n",
       "    <tr>\n",
       "      <th>1</th>\n",
       "      <td>r/mildlyinfuriating predictions tournament 1</td>\n",
       "      <td>mildlyinfuriating</td>\n",
       "      <td>600</td>\n",
       "      <td>208868</td>\n",
       "      <td>0 days 13:39:20</td>\n",
       "    </tr>\n",
       "    <tr>\n",
       "      <th>2</th>\n",
       "      <td>Mads Mikkelsen probably should’ve been used be...</td>\n",
       "      <td>marvelstudios</td>\n",
       "      <td>212</td>\n",
       "      <td>16677</td>\n",
       "      <td>0 days 04:24:02</td>\n",
       "    </tr>\n",
       "    <tr>\n",
       "      <th>3</th>\n",
       "      <td>Gee, if only there were warning signs…</td>\n",
       "      <td>WhitePeopleTwitter</td>\n",
       "      <td>1052</td>\n",
       "      <td>49847</td>\n",
       "      <td>0 days 05:52:22</td>\n",
       "    </tr>\n",
       "    <tr>\n",
       "      <th>4</th>\n",
       "      <td>Average Republican</td>\n",
       "      <td>PoliticalHumor</td>\n",
       "      <td>368</td>\n",
       "      <td>14442</td>\n",
       "      <td>0 days 05:36:43</td>\n",
       "    </tr>\n",
       "  </tbody>\n",
       "</table>\n",
       "</div>"
      ],
      "text/plain": [
       "                                              titles          subreddits  \\\n",
       "0  [Highlight] Jimmy Butler misses the crucial go...                 nba   \n",
       "1      r/mildlyinfuriating predictions tournament 1    mildlyinfuriating   \n",
       "2  Mads Mikkelsen probably should’ve been used be...       marvelstudios   \n",
       "3             Gee, if only there were warning signs…  WhitePeopleTwitter   \n",
       "4                                 Average Republican      PoliticalHumor   \n",
       "\n",
       "   num_comments  upvotes        age_post  \n",
       "0          1874     7781 0 days 01:40:44  \n",
       "1           600   208868 0 days 13:39:20  \n",
       "2           212    16677 0 days 04:24:02  \n",
       "3          1052    49847 0 days 05:52:22  \n",
       "4           368    14442 0 days 05:36:43  "
      ]
     },
     "execution_count": 291,
     "metadata": {},
     "output_type": "execute_result"
    }
   ],
   "source": [
    "reddit_data.head()"
   ]
  },
  {
   "cell_type": "markdown",
   "id": "f7375b3f",
   "metadata": {},
   "source": [
    "#### Saving my project as .csv for later use"
   ]
  },
  {
   "cell_type": "code",
   "execution_count": 294,
   "id": "59f58c05",
   "metadata": {},
   "outputs": [],
   "source": [
    "# reddit_data.to_csv('reddit_data.csv', index=False)"
   ]
  }
 ],
 "metadata": {
  "kernelspec": {
   "display_name": "Python 3 (ipykernel)",
   "language": "python",
   "name": "python3"
  },
  "language_info": {
   "codemirror_mode": {
    "name": "ipython",
    "version": 3
   },
   "file_extension": ".py",
   "mimetype": "text/x-python",
   "name": "python",
   "nbconvert_exporter": "python",
   "pygments_lexer": "ipython3",
   "version": "3.9.7"
  }
 },
 "nbformat": 4,
 "nbformat_minor": 5
}
